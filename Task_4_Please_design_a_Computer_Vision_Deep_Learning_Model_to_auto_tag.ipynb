{
  "nbformat": 4,
  "nbformat_minor": 0,
  "metadata": {
    "colab": {
      "provenance": []
    },
    "kernelspec": {
      "name": "python3",
      "display_name": "Python 3"
    },
    "language_info": {
      "name": "python"
    },
    "accelerator": "GPU",
    "gpuClass": "standard",
    "widgets": {
      "application/vnd.jupyter.widget-state+json": {
        "314c7b9774bd4968b0d491f5d964ad76": {
          "model_module": "@jupyter-widgets/controls",
          "model_name": "VBoxModel",
          "model_module_version": "1.5.0",
          "state": {
            "_dom_classes": [
              "widget-interact"
            ],
            "_model_module": "@jupyter-widgets/controls",
            "_model_module_version": "1.5.0",
            "_model_name": "VBoxModel",
            "_view_count": null,
            "_view_module": "@jupyter-widgets/controls",
            "_view_module_version": "1.5.0",
            "_view_name": "VBoxView",
            "box_style": "",
            "children": [
              "IPY_MODEL_d1519c7b51684f0286ccc652cbb4d72a",
              "IPY_MODEL_d23887df12674d7897541e8f525ba97a",
              "IPY_MODEL_a84dbf9902954bd7ac739eaff8a1a4fd"
            ],
            "layout": "IPY_MODEL_a7d5dd43d98c4051b0f51ee8ff79e361"
          }
        },
        "d1519c7b51684f0286ccc652cbb4d72a": {
          "model_module": "@jupyter-widgets/controls",
          "model_name": "IntSliderModel",
          "model_module_version": "1.5.0",
          "state": {
            "_dom_classes": [],
            "_model_module": "@jupyter-widgets/controls",
            "_model_module_version": "1.5.0",
            "_model_name": "IntSliderModel",
            "_view_count": null,
            "_view_module": "@jupyter-widgets/controls",
            "_view_module_version": "1.5.0",
            "_view_name": "IntSliderView",
            "continuous_update": true,
            "description": "n",
            "description_tooltip": null,
            "disabled": false,
            "layout": "IPY_MODEL_731f14529ec14d3294f92dbfec2559a2",
            "max": 9999,
            "min": 0,
            "orientation": "horizontal",
            "readout": true,
            "readout_format": "d",
            "step": 1,
            "style": "IPY_MODEL_504568c6add946d085cdc91702ce493e",
            "value": 4999
          }
        },
        "d23887df12674d7897541e8f525ba97a": {
          "model_module": "@jupyter-widgets/controls",
          "model_name": "ButtonModel",
          "model_module_version": "1.5.0",
          "state": {
            "_dom_classes": [],
            "_model_module": "@jupyter-widgets/controls",
            "_model_module_version": "1.5.0",
            "_model_name": "ButtonModel",
            "_view_count": null,
            "_view_module": "@jupyter-widgets/controls",
            "_view_module_version": "1.5.0",
            "_view_name": "ButtonView",
            "button_style": "",
            "description": "Run Interact",
            "disabled": false,
            "icon": "",
            "layout": "IPY_MODEL_3064e07ee23b4a75888c9278a0c2dd8e",
            "style": "IPY_MODEL_08d362cb143a4ceb854ff331ab2c3756",
            "tooltip": ""
          }
        },
        "a84dbf9902954bd7ac739eaff8a1a4fd": {
          "model_module": "@jupyter-widgets/output",
          "model_name": "OutputModel",
          "model_module_version": "1.0.0",
          "state": {
            "_dom_classes": [],
            "_model_module": "@jupyter-widgets/output",
            "_model_module_version": "1.0.0",
            "_model_name": "OutputModel",
            "_view_count": null,
            "_view_module": "@jupyter-widgets/output",
            "_view_module_version": "1.0.0",
            "_view_name": "OutputView",
            "layout": "IPY_MODEL_60213033413c41ac9c9dfe8b11874184",
            "msg_id": "",
            "outputs": []
          }
        },
        "a7d5dd43d98c4051b0f51ee8ff79e361": {
          "model_module": "@jupyter-widgets/base",
          "model_name": "LayoutModel",
          "model_module_version": "1.2.0",
          "state": {
            "_model_module": "@jupyter-widgets/base",
            "_model_module_version": "1.2.0",
            "_model_name": "LayoutModel",
            "_view_count": null,
            "_view_module": "@jupyter-widgets/base",
            "_view_module_version": "1.2.0",
            "_view_name": "LayoutView",
            "align_content": null,
            "align_items": null,
            "align_self": null,
            "border": null,
            "bottom": null,
            "display": null,
            "flex": null,
            "flex_flow": null,
            "grid_area": null,
            "grid_auto_columns": null,
            "grid_auto_flow": null,
            "grid_auto_rows": null,
            "grid_column": null,
            "grid_gap": null,
            "grid_row": null,
            "grid_template_areas": null,
            "grid_template_columns": null,
            "grid_template_rows": null,
            "height": null,
            "justify_content": null,
            "justify_items": null,
            "left": null,
            "margin": null,
            "max_height": null,
            "max_width": null,
            "min_height": null,
            "min_width": null,
            "object_fit": null,
            "object_position": null,
            "order": null,
            "overflow": null,
            "overflow_x": null,
            "overflow_y": null,
            "padding": null,
            "right": null,
            "top": null,
            "visibility": null,
            "width": null
          }
        },
        "731f14529ec14d3294f92dbfec2559a2": {
          "model_module": "@jupyter-widgets/base",
          "model_name": "LayoutModel",
          "model_module_version": "1.2.0",
          "state": {
            "_model_module": "@jupyter-widgets/base",
            "_model_module_version": "1.2.0",
            "_model_name": "LayoutModel",
            "_view_count": null,
            "_view_module": "@jupyter-widgets/base",
            "_view_module_version": "1.2.0",
            "_view_name": "LayoutView",
            "align_content": null,
            "align_items": null,
            "align_self": null,
            "border": null,
            "bottom": null,
            "display": null,
            "flex": null,
            "flex_flow": null,
            "grid_area": null,
            "grid_auto_columns": null,
            "grid_auto_flow": null,
            "grid_auto_rows": null,
            "grid_column": null,
            "grid_gap": null,
            "grid_row": null,
            "grid_template_areas": null,
            "grid_template_columns": null,
            "grid_template_rows": null,
            "height": null,
            "justify_content": null,
            "justify_items": null,
            "left": null,
            "margin": null,
            "max_height": null,
            "max_width": null,
            "min_height": null,
            "min_width": null,
            "object_fit": null,
            "object_position": null,
            "order": null,
            "overflow": null,
            "overflow_x": null,
            "overflow_y": null,
            "padding": null,
            "right": null,
            "top": null,
            "visibility": null,
            "width": null
          }
        },
        "504568c6add946d085cdc91702ce493e": {
          "model_module": "@jupyter-widgets/controls",
          "model_name": "SliderStyleModel",
          "model_module_version": "1.5.0",
          "state": {
            "_model_module": "@jupyter-widgets/controls",
            "_model_module_version": "1.5.0",
            "_model_name": "SliderStyleModel",
            "_view_count": null,
            "_view_module": "@jupyter-widgets/base",
            "_view_module_version": "1.2.0",
            "_view_name": "StyleView",
            "description_width": "",
            "handle_color": null
          }
        },
        "3064e07ee23b4a75888c9278a0c2dd8e": {
          "model_module": "@jupyter-widgets/base",
          "model_name": "LayoutModel",
          "model_module_version": "1.2.0",
          "state": {
            "_model_module": "@jupyter-widgets/base",
            "_model_module_version": "1.2.0",
            "_model_name": "LayoutModel",
            "_view_count": null,
            "_view_module": "@jupyter-widgets/base",
            "_view_module_version": "1.2.0",
            "_view_name": "LayoutView",
            "align_content": null,
            "align_items": null,
            "align_self": null,
            "border": null,
            "bottom": null,
            "display": null,
            "flex": null,
            "flex_flow": null,
            "grid_area": null,
            "grid_auto_columns": null,
            "grid_auto_flow": null,
            "grid_auto_rows": null,
            "grid_column": null,
            "grid_gap": null,
            "grid_row": null,
            "grid_template_areas": null,
            "grid_template_columns": null,
            "grid_template_rows": null,
            "height": null,
            "justify_content": null,
            "justify_items": null,
            "left": null,
            "margin": null,
            "max_height": null,
            "max_width": null,
            "min_height": null,
            "min_width": null,
            "object_fit": null,
            "object_position": null,
            "order": null,
            "overflow": null,
            "overflow_x": null,
            "overflow_y": null,
            "padding": null,
            "right": null,
            "top": null,
            "visibility": null,
            "width": null
          }
        },
        "08d362cb143a4ceb854ff331ab2c3756": {
          "model_module": "@jupyter-widgets/controls",
          "model_name": "ButtonStyleModel",
          "model_module_version": "1.5.0",
          "state": {
            "_model_module": "@jupyter-widgets/controls",
            "_model_module_version": "1.5.0",
            "_model_name": "ButtonStyleModel",
            "_view_count": null,
            "_view_module": "@jupyter-widgets/base",
            "_view_module_version": "1.2.0",
            "_view_name": "StyleView",
            "button_color": null,
            "font_weight": ""
          }
        },
        "60213033413c41ac9c9dfe8b11874184": {
          "model_module": "@jupyter-widgets/base",
          "model_name": "LayoutModel",
          "model_module_version": "1.2.0",
          "state": {
            "_model_module": "@jupyter-widgets/base",
            "_model_module_version": "1.2.0",
            "_model_name": "LayoutModel",
            "_view_count": null,
            "_view_module": "@jupyter-widgets/base",
            "_view_module_version": "1.2.0",
            "_view_name": "LayoutView",
            "align_content": null,
            "align_items": null,
            "align_self": null,
            "border": null,
            "bottom": null,
            "display": null,
            "flex": null,
            "flex_flow": null,
            "grid_area": null,
            "grid_auto_columns": null,
            "grid_auto_flow": null,
            "grid_auto_rows": null,
            "grid_column": null,
            "grid_gap": null,
            "grid_row": null,
            "grid_template_areas": null,
            "grid_template_columns": null,
            "grid_template_rows": null,
            "height": null,
            "justify_content": null,
            "justify_items": null,
            "left": null,
            "margin": null,
            "max_height": null,
            "max_width": null,
            "min_height": null,
            "min_width": null,
            "object_fit": null,
            "object_position": null,
            "order": null,
            "overflow": null,
            "overflow_x": null,
            "overflow_y": null,
            "padding": null,
            "right": null,
            "top": null,
            "visibility": null,
            "width": null
          }
        }
      }
    }
  },
  "cells": [
    {
      "cell_type": "code",
      "execution_count": 124,
      "metadata": {
        "id": "hiMgaNdfxCR0",
        "colab": {
          "base_uri": "https://localhost:8080/"
        },
        "outputId": "0175b911-476c-4247-e4e3-15af2d7e3ef1"
      },
      "outputs": [
        {
          "output_type": "stream",
          "name": "stdout",
          "text": [
            "Colab only includes TensorFlow 2.x; %tensorflow_version has no effect.\n"
          ]
        }
      ],
      "source": [
        "%tensorflow_version 2.x"
      ]
    },
    {
      "cell_type": "code",
      "source": [
        "%matplotlib inline\n",
        "import numpy as np\n",
        "import matplotlib.pyplot as plt\n",
        "import pandas as pd"
      ],
      "metadata": {
        "id": "hIEcwZhJ0H4y"
      },
      "execution_count": 125,
      "outputs": []
    },
    {
      "cell_type": "code",
      "source": [
        "from tensorflow import keras\n",
        "from keras.models import Sequential\n",
        "from keras.layers import Dense, Conv2D, Flatten"
      ],
      "metadata": {
        "id": "24i-UD1X4sLR"
      },
      "execution_count": 126,
      "outputs": []
    },
    {
      "cell_type": "code",
      "source": [
        "from google.colab import drive\n",
        "drive.mount('/content/drive')\n",
        " \n",
        "\n",
        "path1 = \"/content/drive/MyDrive/AI_Biz_data/fashion-mnist_train.csv\"\n",
        "path2 = \"/content/drive/My Drive/AI_Biz_data/fashion-mnist_test.csv\""
      ],
      "metadata": {
        "colab": {
          "base_uri": "https://localhost:8080/"
        },
        "id": "x5iQfQHg01-5",
        "outputId": "66534db7-a96e-4906-f617-0d2a112f7bf7"
      },
      "execution_count": 127,
      "outputs": [
        {
          "output_type": "stream",
          "name": "stdout",
          "text": [
            "Drive already mounted at /content/drive; to attempt to forcibly remount, call drive.mount(\"/content/drive\", force_remount=True).\n"
          ]
        }
      ]
    },
    {
      "cell_type": "code",
      "source": [
        "df1 = pd.read_csv(path1)\n",
        "df2 = pd.read_csv(path2)"
      ],
      "metadata": {
        "id": "vT3USS7U0-n7"
      },
      "execution_count": 128,
      "outputs": []
    },
    {
      "cell_type": "code",
      "source": [
        "# 數據預處理\n",
        "# 將標籤列從訓練數據中分離出來\n",
        "y_train = df1['label']\n",
        "x_train = df1.drop(columns='label')"
      ],
      "metadata": {
        "id": "ogoqiG1_3aiT"
      },
      "execution_count": 129,
      "outputs": []
    },
    {
      "cell_type": "code",
      "source": [
        "# 將訓練數據重新打造為 28x28x1 數組\n",
        "x_train = x_train.values.reshape((60000, 28, 28, 1))\n",
        "# Normalize\n",
        "x_train = x_train / 255.0"
      ],
      "metadata": {
        "id": "Vz6sOuo645De"
      },
      "execution_count": 130,
      "outputs": []
    },
    {
      "cell_type": "code",
      "source": [
        "# One-hot encode 標籤列\n",
        "y_train = keras.utils.to_categorical(y_train, 10)"
      ],
      "metadata": {
        "id": "Pbyid8II4-_u"
      },
      "execution_count": 131,
      "outputs": []
    },
    {
      "cell_type": "code",
      "source": [
        "# 將測試數據重新打造為 28x28x1 數組\n",
        "x_test = df2.values.reshape((10000, 28, 28, 1))\n",
        "# Normalize \n",
        "x_test = x_test / 255.0"
      ],
      "metadata": {
        "id": "z1TiuDkX48V0"
      },
      "execution_count": 132,
      "outputs": []
    },
    {
      "cell_type": "code",
      "source": [
        "# Create a sequential model\n",
        "model = Sequential()\n",
        "# 添加一個具有 32 個filters的 2D 卷積層，kernel size為 3x3，input shape為 28x28x1\n",
        "model.add(Conv2D(32, kernel_size=3, activation='relu', input_shape=(28, 28, 1))) \n",
        "# 添加一個 flatten layer將2D array轉換為1D\n",
        "model.add(Flatten())\n",
        "# 添加一個有 10 單元和 softmax 激發的完全連接層(Dense)\n",
        "model.add(Dense(10, activation='softmax'))"
      ],
      "metadata": {
        "id": "w5w6m85a5B2h"
      },
      "execution_count": 133,
      "outputs": []
    },
    {
      "cell_type": "code",
      "source": [
        "# Compile and fit the model\n",
        "model.compile(optimizer='adam', loss='categorical_crossentropy', metrics=['accuracy'])"
      ],
      "metadata": {
        "id": "Us3dhmTnEM6_"
      },
      "execution_count": 134,
      "outputs": []
    },
    {
      "cell_type": "code",
      "source": [
        "# Train the model\n",
        "model.fit(x_train, y_train, epochs = 128, batch_size=128)"
      ],
      "metadata": {
        "colab": {
          "base_uri": "https://localhost:8080/"
        },
        "id": "qTVwqqL75uoD",
        "outputId": "c118d25f-e9ac-4813-efcb-791f868db673"
      },
      "execution_count": 135,
      "outputs": [
        {
          "output_type": "stream",
          "name": "stdout",
          "text": [
            "Epoch 1/128\n",
            "469/469 [==============================] - 2s 4ms/step - loss: 0.4745 - accuracy: 0.8339\n",
            "Epoch 2/128\n",
            "469/469 [==============================] - 2s 4ms/step - loss: 0.3237 - accuracy: 0.8864\n",
            "Epoch 3/128\n",
            "469/469 [==============================] - 2s 4ms/step - loss: 0.2858 - accuracy: 0.8984\n",
            "Epoch 4/128\n",
            "469/469 [==============================] - 2s 4ms/step - loss: 0.2614 - accuracy: 0.9075\n",
            "Epoch 5/128\n",
            "469/469 [==============================] - 2s 4ms/step - loss: 0.2417 - accuracy: 0.9153\n",
            "Epoch 6/128\n",
            "469/469 [==============================] - 2s 4ms/step - loss: 0.2282 - accuracy: 0.9191\n",
            "Epoch 7/128\n",
            "469/469 [==============================] - 2s 4ms/step - loss: 0.2147 - accuracy: 0.9247\n",
            "Epoch 8/128\n",
            "469/469 [==============================] - 2s 4ms/step - loss: 0.2048 - accuracy: 0.9273\n",
            "Epoch 9/128\n",
            "469/469 [==============================] - 2s 4ms/step - loss: 0.1931 - accuracy: 0.9316\n",
            "Epoch 10/128\n",
            "469/469 [==============================] - 2s 4ms/step - loss: 0.1839 - accuracy: 0.9351\n",
            "Epoch 11/128\n",
            "469/469 [==============================] - 2s 4ms/step - loss: 0.1743 - accuracy: 0.9379\n",
            "Epoch 12/128\n",
            "469/469 [==============================] - 2s 4ms/step - loss: 0.1674 - accuracy: 0.9399\n",
            "Epoch 13/128\n",
            "469/469 [==============================] - 2s 4ms/step - loss: 0.1606 - accuracy: 0.9438\n",
            "Epoch 14/128\n",
            "469/469 [==============================] - 2s 4ms/step - loss: 0.1543 - accuracy: 0.9451\n",
            "Epoch 15/128\n",
            "469/469 [==============================] - 2s 4ms/step - loss: 0.1459 - accuracy: 0.9489\n",
            "Epoch 16/128\n",
            "469/469 [==============================] - 2s 4ms/step - loss: 0.1402 - accuracy: 0.9503\n",
            "Epoch 17/128\n",
            "469/469 [==============================] - 2s 4ms/step - loss: 0.1325 - accuracy: 0.9540\n",
            "Epoch 18/128\n",
            "469/469 [==============================] - 2s 4ms/step - loss: 0.1257 - accuracy: 0.9562\n",
            "Epoch 19/128\n",
            "469/469 [==============================] - 2s 4ms/step - loss: 0.1212 - accuracy: 0.9578\n",
            "Epoch 20/128\n",
            "469/469 [==============================] - 2s 4ms/step - loss: 0.1158 - accuracy: 0.9594\n",
            "Epoch 21/128\n",
            "469/469 [==============================] - 2s 4ms/step - loss: 0.1084 - accuracy: 0.9633\n",
            "Epoch 22/128\n",
            "469/469 [==============================] - 2s 4ms/step - loss: 0.1074 - accuracy: 0.9624\n",
            "Epoch 23/128\n",
            "469/469 [==============================] - 2s 4ms/step - loss: 0.1026 - accuracy: 0.9650\n",
            "Epoch 24/128\n",
            "469/469 [==============================] - 3s 5ms/step - loss: 0.0969 - accuracy: 0.9672\n",
            "Epoch 25/128\n",
            "469/469 [==============================] - 2s 5ms/step - loss: 0.0930 - accuracy: 0.9687\n",
            "Epoch 26/128\n",
            "469/469 [==============================] - 2s 4ms/step - loss: 0.0889 - accuracy: 0.9699\n",
            "Epoch 27/128\n",
            "469/469 [==============================] - 2s 4ms/step - loss: 0.0853 - accuracy: 0.9719\n",
            "Epoch 28/128\n",
            "469/469 [==============================] - 2s 4ms/step - loss: 0.0822 - accuracy: 0.9734\n",
            "Epoch 29/128\n",
            "469/469 [==============================] - 2s 4ms/step - loss: 0.0772 - accuracy: 0.9750\n",
            "Epoch 30/128\n",
            "469/469 [==============================] - 2s 4ms/step - loss: 0.0762 - accuracy: 0.9747\n",
            "Epoch 31/128\n",
            "469/469 [==============================] - 2s 4ms/step - loss: 0.0729 - accuracy: 0.9760\n",
            "Epoch 32/128\n",
            "469/469 [==============================] - 2s 4ms/step - loss: 0.0695 - accuracy: 0.9784\n",
            "Epoch 33/128\n",
            "469/469 [==============================] - 2s 4ms/step - loss: 0.0673 - accuracy: 0.9779\n",
            "Epoch 34/128\n",
            "469/469 [==============================] - 2s 4ms/step - loss: 0.0642 - accuracy: 0.9795\n",
            "Epoch 35/128\n",
            "469/469 [==============================] - 2s 4ms/step - loss: 0.0608 - accuracy: 0.9814\n",
            "Epoch 36/128\n",
            "469/469 [==============================] - 2s 4ms/step - loss: 0.0585 - accuracy: 0.9819\n",
            "Epoch 37/128\n",
            "469/469 [==============================] - 2s 4ms/step - loss: 0.0576 - accuracy: 0.9819\n",
            "Epoch 38/128\n",
            "469/469 [==============================] - 2s 4ms/step - loss: 0.0551 - accuracy: 0.9831\n",
            "Epoch 39/128\n",
            "469/469 [==============================] - 2s 4ms/step - loss: 0.0529 - accuracy: 0.9837\n",
            "Epoch 40/128\n",
            "469/469 [==============================] - 2s 4ms/step - loss: 0.0501 - accuracy: 0.9850\n",
            "Epoch 41/128\n",
            "469/469 [==============================] - 2s 4ms/step - loss: 0.0498 - accuracy: 0.9850\n",
            "Epoch 42/128\n",
            "469/469 [==============================] - 2s 4ms/step - loss: 0.0484 - accuracy: 0.9855\n",
            "Epoch 43/128\n",
            "469/469 [==============================] - 2s 4ms/step - loss: 0.0453 - accuracy: 0.9868\n",
            "Epoch 44/128\n",
            "469/469 [==============================] - 2s 4ms/step - loss: 0.0434 - accuracy: 0.9869\n",
            "Epoch 45/128\n",
            "469/469 [==============================] - 2s 4ms/step - loss: 0.0406 - accuracy: 0.9885\n",
            "Epoch 46/128\n",
            "469/469 [==============================] - 2s 4ms/step - loss: 0.0393 - accuracy: 0.9883\n",
            "Epoch 47/128\n",
            "469/469 [==============================] - 2s 4ms/step - loss: 0.0395 - accuracy: 0.9884\n",
            "Epoch 48/128\n",
            "469/469 [==============================] - 2s 4ms/step - loss: 0.0363 - accuracy: 0.9899\n",
            "Epoch 49/128\n",
            "469/469 [==============================] - 2s 4ms/step - loss: 0.0367 - accuracy: 0.9893\n",
            "Epoch 50/128\n",
            "469/469 [==============================] - 2s 4ms/step - loss: 0.0342 - accuracy: 0.9908\n",
            "Epoch 51/128\n",
            "469/469 [==============================] - 2s 4ms/step - loss: 0.0362 - accuracy: 0.9895\n",
            "Epoch 52/128\n",
            "469/469 [==============================] - 2s 4ms/step - loss: 0.0320 - accuracy: 0.9918\n",
            "Epoch 53/128\n",
            "469/469 [==============================] - 2s 4ms/step - loss: 0.0312 - accuracy: 0.9909\n",
            "Epoch 54/128\n",
            "469/469 [==============================] - 2s 4ms/step - loss: 0.0295 - accuracy: 0.9922\n",
            "Epoch 55/128\n",
            "469/469 [==============================] - 2s 4ms/step - loss: 0.0278 - accuracy: 0.9929\n",
            "Epoch 56/128\n",
            "469/469 [==============================] - 2s 4ms/step - loss: 0.0267 - accuracy: 0.9932\n",
            "Epoch 57/128\n",
            "469/469 [==============================] - 2s 4ms/step - loss: 0.0264 - accuracy: 0.9932\n",
            "Epoch 58/128\n",
            "469/469 [==============================] - 2s 4ms/step - loss: 0.0259 - accuracy: 0.9933\n",
            "Epoch 59/128\n",
            "469/469 [==============================] - 2s 4ms/step - loss: 0.0275 - accuracy: 0.9924\n",
            "Epoch 60/128\n",
            "469/469 [==============================] - 2s 4ms/step - loss: 0.0271 - accuracy: 0.9931\n",
            "Epoch 61/128\n",
            "469/469 [==============================] - 2s 4ms/step - loss: 0.0237 - accuracy: 0.9940\n",
            "Epoch 62/128\n",
            "469/469 [==============================] - 2s 4ms/step - loss: 0.0214 - accuracy: 0.9949\n",
            "Epoch 63/128\n",
            "469/469 [==============================] - 2s 4ms/step - loss: 0.0208 - accuracy: 0.9952\n",
            "Epoch 64/128\n",
            "469/469 [==============================] - 2s 4ms/step - loss: 0.0206 - accuracy: 0.9950\n",
            "Epoch 65/128\n",
            "469/469 [==============================] - 2s 4ms/step - loss: 0.0210 - accuracy: 0.9945\n",
            "Epoch 66/128\n",
            "469/469 [==============================] - 2s 4ms/step - loss: 0.0188 - accuracy: 0.9957\n",
            "Epoch 67/128\n",
            "469/469 [==============================] - 2s 4ms/step - loss: 0.0180 - accuracy: 0.9958\n",
            "Epoch 68/128\n",
            "469/469 [==============================] - 2s 4ms/step - loss: 0.0174 - accuracy: 0.9963\n",
            "Epoch 69/128\n",
            "469/469 [==============================] - 2s 4ms/step - loss: 0.0183 - accuracy: 0.9955\n",
            "Epoch 70/128\n",
            "469/469 [==============================] - 2s 4ms/step - loss: 0.0164 - accuracy: 0.9965\n",
            "Epoch 71/128\n",
            "469/469 [==============================] - 2s 4ms/step - loss: 0.0195 - accuracy: 0.9958\n",
            "Epoch 72/128\n",
            "469/469 [==============================] - 2s 4ms/step - loss: 0.0162 - accuracy: 0.9965\n",
            "Epoch 73/128\n",
            "469/469 [==============================] - 2s 4ms/step - loss: 0.0167 - accuracy: 0.9959\n",
            "Epoch 74/128\n",
            "469/469 [==============================] - 2s 4ms/step - loss: 0.0153 - accuracy: 0.9966\n",
            "Epoch 75/128\n",
            "469/469 [==============================] - 2s 4ms/step - loss: 0.0134 - accuracy: 0.9974\n",
            "Epoch 76/128\n",
            "469/469 [==============================] - 2s 4ms/step - loss: 0.0131 - accuracy: 0.9971\n",
            "Epoch 77/128\n",
            "469/469 [==============================] - 2s 4ms/step - loss: 0.0148 - accuracy: 0.9964\n",
            "Epoch 78/128\n",
            "469/469 [==============================] - 2s 4ms/step - loss: 0.0122 - accuracy: 0.9979\n",
            "Epoch 79/128\n",
            "469/469 [==============================] - 2s 4ms/step - loss: 0.0117 - accuracy: 0.9979\n",
            "Epoch 80/128\n",
            "469/469 [==============================] - 2s 4ms/step - loss: 0.0133 - accuracy: 0.9968\n",
            "Epoch 81/128\n",
            "469/469 [==============================] - 2s 4ms/step - loss: 0.0119 - accuracy: 0.9975\n",
            "Epoch 82/128\n",
            "469/469 [==============================] - 2s 4ms/step - loss: 0.0100 - accuracy: 0.9982\n",
            "Epoch 83/128\n",
            "469/469 [==============================] - 2s 4ms/step - loss: 0.0126 - accuracy: 0.9971\n",
            "Epoch 84/128\n",
            "469/469 [==============================] - 2s 4ms/step - loss: 0.0099 - accuracy: 0.9982\n",
            "Epoch 85/128\n",
            "469/469 [==============================] - 2s 4ms/step - loss: 0.0124 - accuracy: 0.9975\n",
            "Epoch 86/128\n",
            "469/469 [==============================] - 2s 4ms/step - loss: 0.0115 - accuracy: 0.9979\n",
            "Epoch 87/128\n",
            "469/469 [==============================] - 2s 4ms/step - loss: 0.0092 - accuracy: 0.9984\n",
            "Epoch 88/128\n",
            "469/469 [==============================] - 2s 4ms/step - loss: 0.0100 - accuracy: 0.9981\n",
            "Epoch 89/128\n",
            "469/469 [==============================] - 2s 4ms/step - loss: 0.0107 - accuracy: 0.9976\n",
            "Epoch 90/128\n",
            "469/469 [==============================] - 2s 4ms/step - loss: 0.0093 - accuracy: 0.9983\n",
            "Epoch 91/128\n",
            "469/469 [==============================] - 2s 4ms/step - loss: 0.0096 - accuracy: 0.9980\n",
            "Epoch 92/128\n",
            "469/469 [==============================] - 2s 4ms/step - loss: 0.0077 - accuracy: 0.9988\n",
            "Epoch 93/128\n",
            "469/469 [==============================] - 2s 4ms/step - loss: 0.0066 - accuracy: 0.9993\n",
            "Epoch 94/128\n",
            "469/469 [==============================] - 2s 4ms/step - loss: 0.0080 - accuracy: 0.9985\n",
            "Epoch 95/128\n",
            "469/469 [==============================] - 2s 4ms/step - loss: 0.0091 - accuracy: 0.9982\n",
            "Epoch 96/128\n",
            "469/469 [==============================] - 2s 4ms/step - loss: 0.0100 - accuracy: 0.9976\n",
            "Epoch 97/128\n",
            "469/469 [==============================] - 2s 4ms/step - loss: 0.0065 - accuracy: 0.9990\n",
            "Epoch 98/128\n",
            "469/469 [==============================] - 2s 4ms/step - loss: 0.0102 - accuracy: 0.9976\n",
            "Epoch 99/128\n",
            "469/469 [==============================] - 2s 4ms/step - loss: 0.0061 - accuracy: 0.9992\n",
            "Epoch 100/128\n",
            "469/469 [==============================] - 2s 4ms/step - loss: 0.0046 - accuracy: 0.9996\n",
            "Epoch 101/128\n",
            "469/469 [==============================] - 2s 4ms/step - loss: 0.0098 - accuracy: 0.9975\n",
            "Epoch 102/128\n",
            "469/469 [==============================] - 2s 4ms/step - loss: 0.0075 - accuracy: 0.9983\n",
            "Epoch 103/128\n",
            "469/469 [==============================] - 2s 4ms/step - loss: 0.0044 - accuracy: 0.9996\n",
            "Epoch 104/128\n",
            "469/469 [==============================] - 2s 4ms/step - loss: 0.0041 - accuracy: 0.9995\n",
            "Epoch 105/128\n",
            "469/469 [==============================] - 2s 4ms/step - loss: 0.0111 - accuracy: 0.9975\n",
            "Epoch 106/128\n",
            "469/469 [==============================] - 2s 4ms/step - loss: 0.0100 - accuracy: 0.9978\n",
            "Epoch 107/128\n",
            "469/469 [==============================] - 2s 4ms/step - loss: 0.0052 - accuracy: 0.9992\n",
            "Epoch 108/128\n",
            "469/469 [==============================] - 2s 4ms/step - loss: 0.0048 - accuracy: 0.9994\n",
            "Epoch 109/128\n",
            "469/469 [==============================] - 2s 4ms/step - loss: 0.0057 - accuracy: 0.9988\n",
            "Epoch 110/128\n",
            "469/469 [==============================] - 2s 4ms/step - loss: 0.0094 - accuracy: 0.9976\n",
            "Epoch 111/128\n",
            "469/469 [==============================] - 2s 4ms/step - loss: 0.0040 - accuracy: 0.9995\n",
            "Epoch 112/128\n",
            "469/469 [==============================] - 2s 4ms/step - loss: 0.0031 - accuracy: 0.9998\n",
            "Epoch 113/128\n",
            "469/469 [==============================] - 2s 4ms/step - loss: 0.0076 - accuracy: 0.9979\n",
            "Epoch 114/128\n",
            "469/469 [==============================] - 2s 4ms/step - loss: 0.0093 - accuracy: 0.9976\n",
            "Epoch 115/128\n",
            "469/469 [==============================] - 2s 4ms/step - loss: 0.0032 - accuracy: 0.9998\n",
            "Epoch 116/128\n",
            "469/469 [==============================] - 2s 4ms/step - loss: 0.0027 - accuracy: 0.9998\n",
            "Epoch 117/128\n",
            "469/469 [==============================] - 2s 4ms/step - loss: 0.0037 - accuracy: 0.9995\n",
            "Epoch 118/128\n",
            "469/469 [==============================] - 2s 4ms/step - loss: 0.0103 - accuracy: 0.9973\n",
            "Epoch 119/128\n",
            "469/469 [==============================] - 2s 4ms/step - loss: 0.0066 - accuracy: 0.9986\n",
            "Epoch 120/128\n",
            "469/469 [==============================] - 2s 4ms/step - loss: 0.0028 - accuracy: 0.9999\n",
            "Epoch 121/128\n",
            "469/469 [==============================] - 2s 4ms/step - loss: 0.0018 - accuracy: 1.0000\n",
            "Epoch 122/128\n",
            "469/469 [==============================] - 2s 4ms/step - loss: 0.0016 - accuracy: 1.0000\n",
            "Epoch 123/128\n",
            "469/469 [==============================] - 2s 4ms/step - loss: 0.0112 - accuracy: 0.9965\n",
            "Epoch 124/128\n",
            "469/469 [==============================] - 2s 4ms/step - loss: 0.0117 - accuracy: 0.9969\n",
            "Epoch 125/128\n",
            "469/469 [==============================] - 2s 4ms/step - loss: 0.0040 - accuracy: 0.9994\n",
            "Epoch 126/128\n",
            "469/469 [==============================] - 2s 4ms/step - loss: 0.0018 - accuracy: 1.0000\n",
            "Epoch 127/128\n",
            "469/469 [==============================] - 2s 4ms/step - loss: 0.0014 - accuracy: 1.0000\n",
            "Epoch 128/128\n",
            "469/469 [==============================] - 2s 4ms/step - loss: 0.0013 - accuracy: 1.0000\n"
          ]
        },
        {
          "output_type": "execute_result",
          "data": {
            "text/plain": [
              "<keras.callbacks.History at 0x7f9c3e6764f0>"
            ]
          },
          "metadata": {},
          "execution_count": 135
        }
      ]
    },
    {
      "cell_type": "code",
      "source": [
        "# 初始化標籤名稱\n",
        "labelNames = [\"top\", \"trouser\", \"pullover\", \"dress\", \"coat\",\"sandal\", \"shirt\", \"sneaker\", \"bag\", \"ankle boot\"]"
      ],
      "metadata": {
        "id": "yXwZxa7S6ouc"
      },
      "execution_count": 136,
      "outputs": []
    },
    {
      "cell_type": "code",
      "source": [
        "result = np.argmax(model.predict(x_test), axis=-1)"
      ],
      "metadata": {
        "colab": {
          "base_uri": "https://localhost:8080/"
        },
        "id": "N2Hlzpu562ul",
        "outputId": "b922e719-f2bc-459b-8152-e16e4d569352"
      },
      "execution_count": 137,
      "outputs": [
        {
          "output_type": "stream",
          "name": "stdout",
          "text": [
            "313/313 [==============================] - 1s 2ms/step\n"
          ]
        }
      ]
    },
    {
      "cell_type": "code",
      "source": [
        "# 可視化測試集的預測\n",
        "def my_predict(n):\n",
        "  print('my CNN prediction', labelNames[result[n]])\n",
        "  X = x_test[n].reshape(28,28)\n",
        "  plt.imshow(X, cmap='Greys')"
      ],
      "metadata": {
        "id": "9FlFrRNp7usx"
      },
      "execution_count": 138,
      "outputs": []
    },
    {
      "cell_type": "code",
      "source": [
        "from ipywidgets import interact_manual\n",
        "interact_manual(my_predict, n=(0, 9999))"
      ],
      "metadata": {
        "colab": {
          "base_uri": "https://localhost:8080/",
          "height": 99,
          "referenced_widgets": [
            "314c7b9774bd4968b0d491f5d964ad76",
            "d1519c7b51684f0286ccc652cbb4d72a",
            "d23887df12674d7897541e8f525ba97a",
            "a84dbf9902954bd7ac739eaff8a1a4fd",
            "a7d5dd43d98c4051b0f51ee8ff79e361",
            "731f14529ec14d3294f92dbfec2559a2",
            "504568c6add946d085cdc91702ce493e",
            "3064e07ee23b4a75888c9278a0c2dd8e",
            "08d362cb143a4ceb854ff331ab2c3756",
            "60213033413c41ac9c9dfe8b11874184"
          ]
        },
        "id": "9E_s12Z68BjF",
        "outputId": "d814d224-9f5f-4a6d-e67c-3c225770790f"
      },
      "execution_count": 139,
      "outputs": [
        {
          "output_type": "display_data",
          "data": {
            "text/plain": [
              "interactive(children=(IntSlider(value=4999, description='n', max=9999), Button(description='Run Interact', sty…"
            ],
            "application/vnd.jupyter.widget-view+json": {
              "version_major": 2,
              "version_minor": 0,
              "model_id": "314c7b9774bd4968b0d491f5d964ad76"
            }
          },
          "metadata": {}
        },
        {
          "output_type": "execute_result",
          "data": {
            "text/plain": [
              "<function __main__.my_predict(n)>"
            ]
          },
          "metadata": {},
          "execution_count": 139
        }
      ]
    },
    {
      "cell_type": "code",
      "source": [
        "# 保存csv 文件上傳到 kaggle\n",
        "\t\n",
        "type(result).__name__\n",
        "result = pd.DataFrame(result)\n",
        "result.head()\n",
        "result.columns = result.columns.map(str)\n",
        "result.head()\n",
        "result = result.rename(columns={\"0\": \"label\"})\n",
        "result.head()\n",
        "result['imageID'] = result.index\n",
        "result.head()\n",
        "result = result[[ 'imageID' , 'label']]\n",
        "result.head()\n",
        "\n",
        "import os\n",
        "path5 = \"/content/drive/My Drive/AI_Biz_data/\"\n",
        "result.to_csv(os.path.join(path5,r'my_prediction.csv'), index=False)\n",
        "\t"
      ],
      "metadata": {
        "id": "6FsPW7YG7SfL"
      },
      "execution_count": 140,
      "outputs": []
    }
  ]
}